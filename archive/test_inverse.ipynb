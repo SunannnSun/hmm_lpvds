{
 "cells": [
  {
   "cell_type": "markdown",
   "metadata": {},
   "source": [
    "### Inverse dynamic of mixture of dynamical systems with known attractor"
   ]
  },
  {
   "cell_type": "code",
   "execution_count": 1,
   "metadata": {},
   "outputs": [],
   "source": [
    "import numpy as np"
   ]
  },
  {
   "cell_type": "code",
   "execution_count": 2,
   "metadata": {},
   "outputs": [],
   "source": [
    "x = np.array([1/2, 1/2])\n",
    "x_att = np.array([1, 1])\n",
    "\n",
    "gamma_1 = 1/3\n",
    "gamma_2 = 2/3\n",
    "\n",
    "A_1 = np.array([[-2, -1], [-1, -3]])\n",
    "A_2 = np.array([[-4, -2], [-2, -5]])"
   ]
  },
  {
   "cell_type": "code",
   "execution_count": 3,
   "metadata": {},
   "outputs": [
    {
     "name": "stdout",
     "output_type": "stream",
     "text": [
      "x_dot computed from forward dynamics: [2.5 3. ]\n"
     ]
    }
   ],
   "source": [
    "# forward dynamics\n",
    "\n",
    "x_dot = gamma_1 * A_1 @ (x-x_att) + gamma_2 * A_2 @ (x-x_att)\n",
    "print(f\"x_dot computed from forward dynamics: {x_dot}\")\n"
   ]
  },
  {
   "cell_type": "code",
   "execution_count": 4,
   "metadata": {},
   "outputs": [
    {
     "name": "stdout",
     "output_type": "stream",
     "text": [
      "x computed from the proposed inverse dynamic: [1.57083333 1.525     ]\n",
      "x_att computed from the proposed inverse dynamic: [0.47083333 0.55833333]\n"
     ]
    }
   ],
   "source": [
    "# inverse dynamics (porposed)\n",
    "\n",
    "x = x_att - gamma_1 * np.linalg.inv(A_1) @ x_dot  - gamma_2 * np.linalg.inv(A_2) @ x_dot\n",
    "print(f\"x computed from the proposed inverse dynamic: {x}\")\n",
    "\n",
    "\n",
    "# retrieve x_att\n",
    "x = np.array([1/2, 1/2])\n",
    "x_att = x + gamma_1 * np.linalg.inv(A_1) @ x_dot  - gamma_2 * np.linalg.inv(A_2) @ x_dot\n",
    "print(f\"x_att computed from the proposed inverse dynamic: {x_att}\")\n"
   ]
  },
  {
   "cell_type": "code",
   "execution_count": 5,
   "metadata": {},
   "outputs": [
    {
     "name": "stdout",
     "output_type": "stream",
     "text": [
      "x computed from the proper inverse dynamic: [0.5 0.5]\n",
      "x_att computed from the proper inverse dynamic: [1. 1.]\n"
     ]
    }
   ],
   "source": [
    "# inverse dynamics (proper)\n",
    "\n",
    "x_att = np.array([1, 1])\n",
    "x = np.linalg.inv(gamma_1 * A_1 + gamma_2 * A_2) @ (x_dot + gamma_1*A_1 @ x_att + gamma_2*A_2 @ x_att)\n",
    "print(f\"x computed from the proper inverse dynamic: {x}\")\n",
    "\n",
    "\n",
    "# retrieve x_att\n",
    "x_att =  np.linalg.inv(gamma_1 * A_1 + gamma_2 * A_2)  @  (gamma_1 * A_1 @ x + gamma_2 * A_2 @ x - x_dot)\n",
    "print(f\"x_att computed from the proper inverse dynamic: {x_att}\")\n"
   ]
  }
 ],
 "metadata": {
  "kernelspec": {
   "display_name": "venv",
   "language": "python",
   "name": "python3"
  },
  "language_info": {
   "codemirror_mode": {
    "name": "ipython",
    "version": 3
   },
   "file_extension": ".py",
   "mimetype": "text/x-python",
   "name": "python",
   "nbconvert_exporter": "python",
   "pygments_lexer": "ipython3",
   "version": "3.8.18"
  }
 },
 "nbformat": 4,
 "nbformat_minor": 2
}
