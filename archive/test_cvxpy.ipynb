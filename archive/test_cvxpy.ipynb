{
 "cells": [
  {
   "cell_type": "code",
   "execution_count": 2,
   "metadata": {},
   "outputs": [],
   "source": [
    "import numpy as np\n",
    "import cvxpy as cp"
   ]
  },
  {
   "cell_type": "code",
   "execution_count": 11,
   "metadata": {},
   "outputs": [],
   "source": [
    "x1 = np.array([0, 2])\n",
    "\n",
    "x2 = np.array([2, 1])\n",
    "\n",
    "x = cp.Variable(2)\n",
    "\n",
    "\n",
    "z1 = 1\n",
    "\n",
    "z2 = 2"
   ]
  },
  {
   "cell_type": "code",
   "execution_count": 12,
   "metadata": {},
   "outputs": [
    {
     "ename": "Exception",
     "evalue": "Cannot evaluate the truth value of a constraint or chain constraints, e.g., 1 >= x >= 0.",
     "output_type": "error",
     "traceback": [
      "\u001b[0;31m---------------------------------------------------------------------------\u001b[0m",
      "\u001b[0;31mException\u001b[0m                                 Traceback (most recent call last)",
      "Cell \u001b[0;32mIn[12], line 3\u001b[0m\n\u001b[1;32m      1\u001b[0m objective \u001b[38;5;241m=\u001b[39m \u001b[38;5;241m0\u001b[39m\n\u001b[0;32m----> 3\u001b[0m \u001b[38;5;28;01mif\u001b[39;00m cp\u001b[38;5;241m.\u001b[39mnorm(x1 \u001b[38;5;241m-\u001b[39m x) \u001b[38;5;241m<\u001b[39m\u001b[38;5;241m=\u001b[39m \u001b[38;5;241m1\u001b[39m:\n\u001b[1;32m      4\u001b[0m     objective\u001b[38;5;241m+\u001b[39m\u001b[38;5;241m=\u001b[39m\u001b[38;5;241m1\u001b[39m\n\u001b[1;32m      6\u001b[0m \u001b[38;5;66;03m# constraint = [cp.norm(x - x2)<=1]\u001b[39;00m\n",
      "File \u001b[0;32m~/miniconda3/envs/venv3.8/lib/python3.8/site-packages/cvxpy/constraints/constraint.py:233\u001b[0m, in \u001b[0;36mConstraint.__bool__\u001b[0;34m(self)\u001b[0m\n\u001b[1;32m    225\u001b[0m \u001b[38;5;28;01mdef\u001b[39;00m \u001b[38;5;21m__bool__\u001b[39m(\u001b[38;5;28mself\u001b[39m):\n\u001b[1;32m    226\u001b[0m \u001b[38;5;250m    \u001b[39m\u001b[38;5;124;03m\"\"\"Raises an exception when called.\u001b[39;00m\n\u001b[1;32m    227\u001b[0m \n\u001b[1;32m    228\u001b[0m \u001b[38;5;124;03m    Python 3 version.\u001b[39;00m\n\u001b[0;32m   (...)\u001b[0m\n\u001b[1;32m    231\u001b[0m \u001b[38;5;124;03m    Raising an error here prevents writing chained constraints.\u001b[39;00m\n\u001b[1;32m    232\u001b[0m \u001b[38;5;124;03m    \"\"\"\u001b[39;00m\n\u001b[0;32m--> 233\u001b[0m     \u001b[38;5;28;01mreturn\u001b[39;00m \u001b[38;5;28;43mself\u001b[39;49m\u001b[38;5;241;43m.\u001b[39;49m\u001b[43m_chain_constraints\u001b[49m\u001b[43m(\u001b[49m\u001b[43m)\u001b[49m\n",
      "File \u001b[0;32m~/miniconda3/envs/venv3.8/lib/python3.8/site-packages/cvxpy/constraints/constraint.py:220\u001b[0m, in \u001b[0;36mConstraint._chain_constraints\u001b[0;34m(self)\u001b[0m\n\u001b[1;32m    217\u001b[0m \u001b[38;5;28;01mdef\u001b[39;00m \u001b[38;5;21m_chain_constraints\u001b[39m(\u001b[38;5;28mself\u001b[39m):\n\u001b[1;32m    218\u001b[0m \u001b[38;5;250m    \u001b[39m\u001b[38;5;124;03m\"\"\"Raises an error due to chained constraints.\u001b[39;00m\n\u001b[1;32m    219\u001b[0m \u001b[38;5;124;03m    \"\"\"\u001b[39;00m\n\u001b[0;32m--> 220\u001b[0m     \u001b[38;5;28;01mraise\u001b[39;00m \u001b[38;5;167;01mException\u001b[39;00m(\n\u001b[1;32m    221\u001b[0m         (\u001b[38;5;124m\"\u001b[39m\u001b[38;5;124mCannot evaluate the truth value of a constraint or \u001b[39m\u001b[38;5;124m\"\u001b[39m\n\u001b[1;32m    222\u001b[0m          \u001b[38;5;124m\"\u001b[39m\u001b[38;5;124mchain constraints, e.g., 1 >= x >= 0.\u001b[39m\u001b[38;5;124m\"\u001b[39m)\n\u001b[1;32m    223\u001b[0m     )\n",
      "\u001b[0;31mException\u001b[0m: Cannot evaluate the truth value of a constraint or chain constraints, e.g., 1 >= x >= 0."
     ]
    }
   ],
   "source": [
    "objective = 0\n",
    "\n",
    "if cp.norm(x1 - x) <= 1:\n",
    "    objective+=1\n",
    "\n",
    "# constraint = [cp.norm(x - x2)<=1]\n",
    "\n",
    "constraint = []\n",
    "\n",
    "prob = cp.Problem(objective)\n",
    "prob.solve(verbose=True)\n",
    "result = prob.solve(verbose=True)\n",
    "print(\"Optimal value of x_att:\", x.value)"
   ]
  },
  {
   "cell_type": "code",
   "execution_count": null,
   "metadata": {},
   "outputs": [],
   "source": [
    "import cvxpy as cp\n",
    "import numpy as np\n",
    "\n",
    "def find_point_convex(x1, x2):\n",
    "    # Convert inputs to numpy arrays\n",
    "    x1 = np.array(x1)\n",
    "    x2 = np.array(x2)\n",
    "    \n",
    "    # Get the dimension of the vectors\n",
    "    n = len(x1)\n",
    "    \n",
    "    # Define the variable to optimize\n",
    "    x = cp.Variable(n)\n",
    "    \n",
    "    # Define the objective function\n",
    "    objective = cp.Minimize(cp.norm(x - x2, 2))\n",
    "    \n",
    "    # Define the constraint\n",
    "    constraints = [cp.norm(x - x1, 2) >= 1]\n",
    "    \n",
    "    # Formulate the problem\n",
    "    prob = cp.Problem(objective, constraints)\n",
    "    \n",
    "    # Solve the problem\n",
    "    prob.solve()\n",
    "    \n",
    "    # Check if the problem was solved successfully\n",
    "    if prob.status != cp.OPTIMAL:\n",
    "        raise ValueError(\"Problem did not solve optimally\")\n",
    "    \n",
    "    return x.value\n",
    "\n",
    "# Test the function\n",
    "x1 = np.array([2, 3, 4])\n",
    "x2 = np.array([4, 6, 8])\n",
    "\n",
    "result = find_point_convex(x1, x2)\n",
    "print(f\"Result: {result}\")\n",
    "\n",
    "# Check distances\n",
    "print(f\"Distance from x1: {np.linalg.norm(result - x1)}\")\n",
    "print(f\"Distance from x2: {np.linalg.norm(result - x2)}\")"
   ]
  }
 ],
 "metadata": {
  "kernelspec": {
   "display_name": "venv3.8",
   "language": "python",
   "name": "python3"
  },
  "language_info": {
   "codemirror_mode": {
    "name": "ipython",
    "version": 3
   },
   "file_extension": ".py",
   "mimetype": "text/x-python",
   "name": "python",
   "nbconvert_exporter": "python",
   "pygments_lexer": "ipython3",
   "version": "3.8.18"
  }
 },
 "nbformat": 4,
 "nbformat_minor": 2
}
